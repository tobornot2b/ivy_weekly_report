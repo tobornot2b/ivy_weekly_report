{
 "cells": [
  {
   "cell_type": "markdown",
   "id": "14de2003-b5bf-4a3e-8b92-23708af321e9",
   "metadata": {},
   "source": [
    "# 영업팀 일일보고 DB 저장 프로그램"
   ]
  },
  {
   "cell_type": "code",
   "execution_count": 1,
   "id": "b2d7186b-dd90-459b-8003-5c2d4ff953a1",
   "metadata": {},
   "outputs": [],
   "source": [
    "import pandas as pd\n",
    "import xlwings as xw\n",
    "import sys\n",
    "import pyautogui"
   ]
  },
  {
   "cell_type": "code",
   "execution_count": 2,
   "id": "7a1cbda5-ade8-4e3b-b341-d92810c3ef49",
   "metadata": {},
   "outputs": [],
   "source": [
    "# app = xw.App(visible=True) # 실행과정 보이게\n",
    "app = xw.App(visible=False) # 실행과정 안보이게"
   ]
  },
  {
   "cell_type": "markdown",
   "id": "6074c03e-1ec2-4b7c-96ad-560b48565281",
   "metadata": {},
   "source": [
    "## 일일보고 엑셀파일 읽어오기"
   ]
  },
  {
   "cell_type": "code",
   "execution_count": 3,
   "id": "cf739abd-24e5-44e6-b16a-dafae76fd8b8",
   "metadata": {},
   "outputs": [],
   "source": [
    "try:\n",
    "    wb = xw.Book(\"./'일일보고.xlsx\") # type: xlwings.main.Book\n",
    "    # sht = wb.sheets[-1] # type: xlwings.main.Sheet\n",
    "except FileNotFoundError:\n",
    "    print(\"같은 폴더안에 \\n'일일보고.xlsx \\n파일이 없습니다.\\n\\n프로그램을 종료합니다.\")\n",
    "    pyautogui.alert(title='FileNotFoundError', text=\"같은 폴더안에 \\n'일일보고.xlsx \\n파일이 없습니다.\\n\\n프로그램을 종료합니다.\")\n",
    "    sys.exit()"
   ]
  },
  {
   "cell_type": "markdown",
   "id": "1751af84-6e47-48e6-b518-297ca1af26d6",
   "metadata": {
    "tags": []
   },
   "source": [
    "### 시즌별 시트범위 계산"
   ]
  },
  {
   "cell_type": "code",
   "execution_count": 4,
   "id": "0c4e18bc-cfb0-404a-bf80-1e9e2cea211b",
   "metadata": {
    "tags": []
   },
   "outputs": [
    {
     "data": {
      "text/plain": [
       "{'22N_start': ['210304', 1292],\n",
       " '21F_start': ['210304', 1292],\n",
       " '22S_start': ['210603', 1353],\n",
       " '23N_start': ['220310', 1542],\n",
       " '22F_start': ['220310', 1542],\n",
       " '23S_start': ['220608', 1603]}"
      ]
     },
     "execution_count": 4,
     "metadata": {},
     "output_type": "execute_result"
    }
   ],
   "source": [
    "# 시즌\n",
    "seasons: list = ['22N', '23N', '22S', '23S', '21F', '22F']\n",
    "\n",
    "# 시트범위 기록할 딕셔너리\n",
    "season_sheet_range: dict = {}\n",
    "\n",
    "# 시즌별 시트범위 찾는다.\n",
    "for i, sheet in enumerate(wb.sheets):\n",
    "    for season in seasons:\n",
    "        # season_cleanup = list(set(' '.join(sheet['B4:M4'].options(numbers=str, empty='').value).replace(\"  \", \" \").replace(\"'\", \"\").replace(\"+\", \" \").split(' ')))\n",
    "        season_cleanup = ''.join(sheet['B4:M4'].options(numbers=str, empty='').value).replace(\"'\", \"\").replace(\"+\", \" \").replace(\" \", \"\")\n",
    "        season_cleanup = list(set(list(map(''.join, zip(*[iter(season_cleanup)]*3)))))\n",
    "        if season in season_cleanup:\n",
    "            if season_sheet_range.get(season + '_start') == None:\n",
    "                season_sheet_range[season + '_start'] = [sheet.name, i]\n",
    "\n",
    "# 마지막 시트는 아래처럼 찾는다.\n",
    "# season_sheet_range['22N_start'][1]\n",
    "\n",
    "season_sheet_range"
   ]
  },
  {
   "cell_type": "markdown",
   "id": "e32d8177-42a0-484f-9383-a10a43ae6a1a",
   "metadata": {
    "tags": []
   },
   "source": [
    "### 좌표 잡는 함수 (상대좌표)"
   ]
  },
  {
   "cell_type": "code",
   "execution_count": 5,
   "id": "a7112695-6ae2-4aff-9770-b94f1f4b90e2",
   "metadata": {},
   "outputs": [],
   "source": [
    "def SetPos(sheet) -> list:\n",
    "\n",
    "    # 범위 안에 원하는 TEXT 값 찾기\n",
    "    i: int = 0\n",
    "    set_position: list = [] # 가변 좌표\n",
    "\n",
    "    for row in range(200, 1, -1): # row 범위\n",
    "        for col in range(1, 2): # column 범위\n",
    "            if sheet.range((row, col)).value == \"서울\":\n",
    "                i += 1\n",
    "                if i < 4: # 뒤에서부터 1, 2, 3번째를 찾는다.\n",
    "                    # print(f'{col}열 {row}행')\n",
    "                    set_position.append(row)\n",
    "                    # print(set_position)\n",
    "\n",
    "    if len(set_position) != 3:\n",
    "        print(f\"기준좌표 갯수가 3 이어야 합니다.\\n현재값 : {len(set_position)}\\n\\n프로그램을 종료합니다.\")\n",
    "        pyautogui.alert(title='논리 에러', text=f\"기준좌표 갯수가 3 이어야 합니다.\\n현재값 : {len(set_position)}\\n\\n프로그램을 종료합니다.\")\n",
    "        sys.exit()\n",
    "    \n",
    "    return set_position"
   ]
  },
  {
   "cell_type": "markdown",
   "id": "8a20f41d-dac3-4b80-9edb-7e31698cb69f",
   "metadata": {
    "tags": []
   },
   "source": [
    "### 시트에서 데이터 가져오는 함수"
   ]
  },
  {
   "cell_type": "code",
   "execution_count": 6,
   "id": "2fcb66b8-85ad-4450-bb75-8a6713000610",
   "metadata": {},
   "outputs": [],
   "source": [
    "def get_data_from_sheet(sht) -> pd.DataFrame:\n",
    "    # 시즌 찾기\n",
    "    # season_cleanup: list = list(set(' '.join(sheet['B4:M4'].options(numbers=str, empty='').value).replace(\"  \", \" \").replace(\"'\", \"\").replace(\"+\", \" \").split(' ')))\n",
    "    \n",
    "    # 테이터 기록이 균일하지 못해 어쩔 수 없이 지저분하게 문자열 처리\n",
    "    # 데이터 변환 과정\n",
    "    # 리스트 -> 문자열 -> 특문 제거 및 공백없는 시즌만 남은 문자열로 변환 ->\n",
    "    # 3글자마다 반복해서 잘라냄 -> 리스트 -> 세트(중복삭제) -> 리스트 ->\n",
    "    # -> 정렬 (시즌 순서는 관계없으나 동일 계열이면 오름차순이어야 한다.)\n",
    "    \n",
    "    season_cleanup = ''.join(sheet['B4:M4'].options(numbers=str, empty='').value).replace(\"'\", \"\").replace(\"+\", \" \").replace(\" \", \"\")\n",
    "    season_cleanup = list(set(list(map(''.join, zip(*[iter(season_cleanup)]*3)))))\n",
    "    season_cleanup.sort()\n",
    "    \n",
    "    N = ''\n",
    "    S = ''\n",
    "    F = ''\n",
    "\n",
    "    for season in season_cleanup:\n",
    "        # print(season[-1])\n",
    "        if season[-1] == 'N':\n",
    "            N = season\n",
    "        elif season[-1] == 'S':\n",
    "            S = season\n",
    "        elif season[-1] == 'F':\n",
    "            F = season\n",
    "            \n",
    "    # 데이터 좌표 찾기\n",
    "    position: list = SetPos(sht)\n",
    "    position.sort()\n",
    "    \n",
    "    # FN, S, F 시즌 가져오기\n",
    "    df_FN = sht.range(f'A{position[0]}:C{position[0]+5}').options(pd.DataFrame, index=False, header=False, empty=0).value\n",
    "    df_S = sht.range(f'A{position[1]}:C{position[1]+5}').options(pd.DataFrame, index=False, header=False, empty=0).value\n",
    "    df_F = sht.range(f'A{position[2]}:C{position[2]+5}').options(pd.DataFrame, index=False, header=False, empty=0).value\n",
    "\n",
    "    # N시즌 구하기\n",
    "    df_N = df_FN.copy()\n",
    "    df_N.iloc[:, 1:3] = df_FN.iloc[:, 1:3] - df_F.iloc[:, 1:3]\n",
    "\n",
    "    # 컬럼 정리\n",
    "    df_FN.columns = ['상권', '수주량', '해제량']\n",
    "    df_N.columns = ['상권', '수주량', '해제량']\n",
    "    df_S.columns = ['상권', '수주량', '해제량']\n",
    "    df_F.columns = ['상권', '수주량', '해제량']\n",
    "\n",
    "    # 데이터타입 정리\n",
    "    df_FN.iloc[:, 1:3] = df_FN.iloc[:, 1:3].astype(int)\n",
    "    df_N.iloc[:, 1:3] = df_N.iloc[:, 1:3].astype(int)\n",
    "    df_S.iloc[:, 1:3] = df_S.iloc[:, 1:3].astype(int)\n",
    "    df_F.iloc[:, 1:3] = df_F.iloc[:, 1:3].astype(int)\n",
    "\n",
    "    # 보고일자 추가\n",
    "    df_FN['보고일자'] = '20' + sht.name\n",
    "    df_FN['보고일자'] = pd.to_datetime(df_FN['보고일자'])\n",
    "    df_N['보고일자'] = '20' + sht.name\n",
    "    df_N['보고일자'] = pd.to_datetime(df_N['보고일자'])\n",
    "    df_S['보고일자'] = '20' + sht.name\n",
    "    df_S['보고일자'] = pd.to_datetime(df_S['보고일자'])\n",
    "    df_F['보고일자'] = '20' + sht.name\n",
    "    df_F['보고일자'] = pd.to_datetime(df_F['보고일자'])\n",
    "\n",
    "    # 시즌 컬럼 추가\n",
    "    df_FN['시즌'] = F + N\n",
    "    df_N['시즌'] = N\n",
    "    df_S['시즌'] = S\n",
    "    df_F['시즌'] = F\n",
    "\n",
    "    df = pd.concat([df_N, df_F, df_S])\n",
    "    \n",
    "    return df"
   ]
  },
  {
   "cell_type": "markdown",
   "id": "8e73c7b0-3168-4010-9621-32e9df94070b",
   "metadata": {},
   "source": [
    "### 시트 순회"
   ]
  },
  {
   "cell_type": "code",
   "execution_count": null,
   "id": "d9118879-a5ce-41ea-b443-4c4e06be4bf1",
   "metadata": {
    "tags": []
   },
   "outputs": [],
   "source": [
    "df_total = pd.DataFrame()\n",
    "\n",
    "for j, sheet in enumerate(wb.sheets):\n",
    "    if j < 1292: # 슬라이싱해서 순회할 방법을 찾지 못해 전체순회 돌리고 앞쪽 1290여개 시트는 패스 (총 1700여개. 실제 순회는 400개정도)\n",
    "        continue\n",
    "    # print(f'순번 {j}, {sheet.name} 시트 진행중입니다.')\n",
    "    \n",
    "    df_sheet = get_data_from_sheet(sheet)\n",
    "    \n",
    "    df_total = pd.concat([df_total, df_sheet])"
   ]
  },
  {
   "cell_type": "code",
   "execution_count": null,
   "id": "13ecc38c-ba85-4623-924e-1a838e256a4b",
   "metadata": {},
   "outputs": [],
   "source": [
    "app.kill()"
   ]
  },
  {
   "cell_type": "code",
   "execution_count": null,
   "id": "eacfd1bd-bbb8-4782-8369-51052a3faabf",
   "metadata": {},
   "outputs": [],
   "source": [
    "df_total"
   ]
  },
  {
   "cell_type": "code",
   "execution_count": null,
   "id": "1d49b31f-b6ae-46f3-b6ed-3c5c4a2c444f",
   "metadata": {},
   "outputs": [],
   "source": [
    "df_total.groupby(['시즌', '상권'])[['수주량', '해제량']].agg(sum)"
   ]
  },
  {
   "cell_type": "markdown",
   "id": "329d1c05-eb35-4a0b-9acd-50388ed15840",
   "metadata": {},
   "source": [
    "## SQLITE 기록\n",
    "\n",
    "- DB명 : daliy_order.db\n",
    "- 테이블명 : SALES_SUJU_HAJE_T\n",
    "- 옵션 : 테이블이 존재할 경우 삭제 후 재기록"
   ]
  },
  {
   "cell_type": "code",
   "execution_count": null,
   "id": "77582e56-8c17-4358-8a1e-a27bbfc6f856",
   "metadata": {},
   "outputs": [],
   "source": [
    "import sqlite3\n",
    "connect = sqlite3.connect('./data/daliy_order.db') # conn 객체 생성 = DB 파일명\n",
    "cursor = connect.cursor() # 커서 생성\n",
    "df_total.to_sql('SALES_SUJU_HAJE_T', connect, index=False, if_exists='replace') # 테이블이 존재할 경우 데이터만 넣는다.\n",
    "connect.close()"
   ]
  }
 ],
 "metadata": {
  "kernelspec": {
   "display_name": "Python 3 (ipykernel)",
   "language": "python",
   "name": "python3"
  },
  "language_info": {
   "codemirror_mode": {
    "name": "ipython",
    "version": 3
   },
   "file_extension": ".py",
   "mimetype": "text/x-python",
   "name": "python",
   "nbconvert_exporter": "python",
   "pygments_lexer": "ipython3",
   "version": "3.8.13"
  }
 },
 "nbformat": 4,
 "nbformat_minor": 5
}
