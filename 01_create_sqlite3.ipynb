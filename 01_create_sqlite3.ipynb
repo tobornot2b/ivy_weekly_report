{
 "cells": [
  {
   "cell_type": "markdown",
   "id": "c274c229-685a-4890-b4ca-233c4f642c34",
   "metadata": {},
   "source": [
    "# SQLite DB 생성 프로그램"
   ]
  },
  {
   "cell_type": "code",
   "execution_count": 1,
   "id": "77af40ec-e51e-43c9-807d-74be1255ca6d",
   "metadata": {},
   "outputs": [],
   "source": [
    "from sqlalchemy import create_engine\n",
    "import pandas as pd\n",
    "import binascii   # 한글 변환에 필요한 라이브러리\n",
    "import sys\n",
    "import sqlite3"
   ]
  },
  {
   "cell_type": "markdown",
   "id": "29a6be14-eb8d-4318-92e4-2f37de8d5629",
   "metadata": {},
   "source": [
    "## 변수지정"
   ]
  },
  {
   "cell_type": "code",
   "execution_count": 2,
   "id": "b4acccaa-2d17-4710-9764-78c78d1312d1",
   "metadata": {},
   "outputs": [],
   "source": [
    "N_season = '23N'\n",
    "F_season = '22F'\n",
    "S_season = '23S'"
   ]
  },
  {
   "cell_type": "markdown",
   "id": "0a148a89-3e96-4771-bbad-2bc7480124b5",
   "metadata": {
    "tags": []
   },
   "source": [
    "## Oracle DB 연결"
   ]
  },
  {
   "cell_type": "code",
   "execution_count": 3,
   "id": "6f29db38-448c-40b0-881c-251b2078bc71",
   "metadata": {},
   "outputs": [],
   "source": [
    "sys.path.append('/settings')\n",
    "import config\n",
    "\n",
    "def connect_db(sid: str):\n",
    "    if sid != config.COMPANY_DB_CONFIG['sid']:\n",
    "        raise ValueError(\"DB 를 찾을 수 없습니다.\")\n",
    "    \n",
    "    conn = create_engine(\n",
    "        \"oracle+cx_oracle://{user}:{password}@{host}:{port}/{sid}?encoding=UTF-8&nencoding=UTF-8\".format(\n",
    "            user=config.COMPANY_DB_CONFIG['user'],\n",
    "            password=config.COMPANY_DB_CONFIG['password'],\n",
    "            host=config.COMPANY_DB_CONFIG['host'],\n",
    "            port=config.COMPANY_DB_CONFIG['port'],\n",
    "            sid=config.COMPANY_DB_CONFIG['sid']\n",
    "        )\n",
    "    )\n",
    "    return conn\n",
    "\n",
    "engine = connect_db('IVY')"
   ]
  },
  {
   "cell_type": "markdown",
   "id": "5f276dbb-b18f-470e-847e-d6f9d82eb86a",
   "metadata": {},
   "source": [
    "## SQL문"
   ]
  },
  {
   "cell_type": "markdown",
   "id": "2598ebf6-3dc6-4528-95f0-6a7472e98e06",
   "metadata": {},
   "source": [
    "### 1. I_SUJU_MASTER_DAILY_T\n",
    "\n",
    "- 매일기록용, SQLITE DB 전용 테이블"
   ]
  },
  {
   "cell_type": "code",
   "execution_count": 4,
   "id": "d429f831-6da0-407b-b95b-5d1f20df6a61",
   "metadata": {},
   "outputs": [],
   "source": [
    "sql1: str = f'''\n",
    "SELECT (SELECT SYSDATE FROM DUAL) query_date,\n",
    "       master_order,\n",
    "       master_year,\n",
    "       master_season,\n",
    "       master_school,\n",
    "       master_agent,\n",
    "       master_bokjong,\n",
    "       master_ser,\n",
    "       master_tkyk,\n",
    "       master_person,\n",
    "       master_suju_date,\n",
    "       master_suju_qty,\n",
    "       master_jisi_qty,\n",
    "       master_status,\n",
    "       master_hold,\n",
    "       master_remark,\n",
    "       master_remake,\n",
    "       master_jaepum,\n",
    "       master_taip_date,\n",
    "       master_hold_date,\n",
    "       master_quota,\n",
    "       master_sex,\n",
    "       master_squota,\n",
    "       master_prodm_qty,\n",
    "       master_prodm_date,\n",
    "       master_appv_end_dt,\n",
    "       master_appv_start_dt,\n",
    "       master_st20_dt,\n",
    "       master_st03_date,\n",
    "       master_st00_dt,\n",
    "       master_st04_date,\n",
    "       master_ns_quota,\n",
    "       master_grade_cnt,\n",
    "       master_suju_seq\n",
    "FROM   i_suju_master_t\n",
    "WHERE  master_quota IN ( '{N_season}', '{S_season}', '{F_season}' )\n",
    "       AND master_tkyk IN ( 'C', 'D', 'H', 'I', 'L', 'R' )\n",
    "       AND master_status >= '03'\n",
    "       AND master_status <= '60' \n",
    "'''"
   ]
  },
  {
   "cell_type": "markdown",
   "id": "124316f0-e2f3-48b7-8ea7-4662bf7eda48",
   "metadata": {},
   "source": [
    "### 2. I_SCH_T\n",
    "\n",
    "- 원본과 거의 동일하나 필요없는 항목은 빠져있다."
   ]
  },
  {
   "cell_type": "code",
   "execution_count": 5,
   "id": "ffa87e29-2ed1-41f7-b7ff-a6f46d4b3ff2",
   "metadata": {},
   "outputs": [],
   "source": [
    "sql2: str = f'''\n",
    "SELECT sch_code,\n",
    "       Rawtohex(utl_raw.Cast_to_raw(sch_name)) sch_name,\n",
    "       sch_tel, sch_post, sch_qty, sch_gbn, sch_suit_yn, sch_tkyk, sch_spec, sch_agen,\n",
    "       sch_type, sch_del_yn, sch_sale_yn, sch_f_bokjong, sch_season, sch_com_cd, sch_com_gb,\n",
    "       sch_gb_cd, sch_style_gb, sch_end_gb, sch_stand_gb, sch_combok_gb, sch_s_add_bokjong, sch_incheon_gb, sch_cd_area_gb, sch_cd_sch_gb\n",
    "FROM   i_sch_t\n",
    "WHERE  1=1\n",
    "'''"
   ]
  },
  {
   "cell_type": "markdown",
   "id": "410f3141-a1a5-42ab-b9d9-4a48bc9b0d57",
   "metadata": {},
   "source": [
    "### 3. I_AGEN_T\n",
    "\n",
    "- 원본과 거의 동일하나 필요없는 항목은 빠져있다."
   ]
  },
  {
   "cell_type": "code",
   "execution_count": 6,
   "id": "d9f9ef78-986b-4abf-8eef-74f096423589",
   "metadata": {},
   "outputs": [],
   "source": [
    "sql3: str = f'''\n",
    "SELECT agen_code,\n",
    "       Rawtohex(utl_raw.Cast_to_raw(agen_name)) agen_name,\n",
    "       agen_area,\n",
    "       agen_tkyk,\n",
    "       Rawtohex(utl_raw.Cast_to_raw(agen_president)) agen_president,\n",
    "       Rawtohex(utl_raw.Cast_to_raw(agen_store)) agen_store,\n",
    "       agen_no,\n",
    "       agen_post,\n",
    "       Rawtohex(utl_raw.Cast_to_raw(agen_addr)) agen_addr,\n",
    "       agen_tel,\n",
    "       Rawtohex(utl_raw.Cast_to_raw(agen_store1)) agen_store1,\n",
    "       Rawtohex(utl_raw.Cast_to_raw(agen_saddr1)) agen_saddr1,\n",
    "       agen_presi_tel,\n",
    "       agen_presi_ctel,\n",
    "       agen_mailaddr,\n",
    "       agen_jaepum,\n",
    "       Rawtohex(utl_raw.Cast_to_raw(agen_store1)) agen_store5,\n",
    "       Rawtohex(utl_raw.Cast_to_raw(agen_store1)) agen_saddr5,\n",
    "       agen_del_yn\n",
    "FROM   i_agen_t\n",
    "WHERE  1=1\n",
    "'''"
   ]
  },
  {
   "cell_type": "markdown",
   "id": "aeaf318c-8095-4421-9be6-0a10a2d7ae4f",
   "metadata": {},
   "source": [
    "### 4. I_TKYK_T\n",
    "\n",
    "- 원본과 거의 동일하나 필요없는 항목은 빠져있다."
   ]
  },
  {
   "cell_type": "code",
   "execution_count": 7,
   "id": "45ddf371-8567-4612-947c-4ddefcc5a609",
   "metadata": {},
   "outputs": [],
   "source": [
    "sql4: str = f'''\n",
    "SELECT tkyk_code,\n",
    "       Rawtohex(utl_raw.Cast_to_raw(tkyk_name)) tkyk_name\n",
    "FROM   i_tkyk_t\n",
    "WHERE  1=1\n",
    "'''"
   ]
  },
  {
   "cell_type": "markdown",
   "id": "7dbb40fd-9ea2-42f5-aecd-33bdde9300ce",
   "metadata": {},
   "source": [
    "## 함수 모음"
   ]
  },
  {
   "cell_type": "markdown",
   "id": "3a011656-c542-4a3f-b99b-85f0004db247",
   "metadata": {
    "tags": []
   },
   "source": [
    "### 한글변환 함수"
   ]
  },
  {
   "cell_type": "code",
   "execution_count": 8,
   "id": "f556401c-fa41-4160-af1a-ee366c251c26",
   "metadata": {},
   "outputs": [],
   "source": [
    "# US7ASCII -> CP949(완성형한글) 로 변환\n",
    "def us7ascii_to_cp949(df: pd.DataFrame) -> pd.DataFrame:\n",
    "    for index, byte_data in enumerate(df):\n",
    "        if byte_data == None: # null 값이면 패스. 안하면 변환 에러난다.\n",
    "            continue\n",
    "        byte_data = binascii.unhexlify(df[index])  # 16진수 문자열 hexstr로 표현된 바이너리 데이터를 반환. 역함수는 b2a_hex()\n",
    "        df[index] = byte_data.decode(\"cp949\")  # 바이트 변환값 -> cp949(완성형 한글) 로 변환\n",
    "    return df"
   ]
  },
  {
   "cell_type": "markdown",
   "id": "b9f3e09d-7d95-402b-8e84-778319296f15",
   "metadata": {},
   "source": [
    "### 쿼리 함수"
   ]
  },
  {
   "cell_type": "code",
   "execution_count": 9,
   "id": "2a584781-3d56-4e1f-9c16-6a1ea76c66a2",
   "metadata": {},
   "outputs": [],
   "source": [
    "def oracle_query(oracleSql: str) -> pd.DataFrame:\n",
    "    df = pd.read_sql_query(oracleSql, engine)\n",
    "    \n",
    "    if 'tkyk_name' in df.columns: # 해당컬럼이 없어도 에러없이 처리\n",
    "        df_temp = df['tkyk_name'].copy()\n",
    "        df['tkyk_name'] = us7ascii_to_cp949(df_temp)\n",
    "\n",
    "    if 'agen_name' in df.columns:\n",
    "        df_temp = df['agen_name'].copy()\n",
    "        df['agen_name'] = us7ascii_to_cp949(df_temp)\n",
    "        \n",
    "    if 'agen_president' in df.columns:\n",
    "        df_temp = df['agen_president'].copy()\n",
    "        df['agen_president'] = us7ascii_to_cp949(df_temp)\n",
    "        \n",
    "    if 'agen_store' in df.columns:\n",
    "        df_temp = df['agen_store'].copy()\n",
    "        df['agen_store'] = us7ascii_to_cp949(df_temp)\n",
    "        \n",
    "    if 'agen_addr' in df.columns:\n",
    "        df_temp = df['agen_addr'].copy()\n",
    "        df['agen_addr'] = us7ascii_to_cp949(df_temp)\n",
    "        \n",
    "    if 'agen_store1' in df.columns:\n",
    "        df_temp = df['agen_store1'].copy()\n",
    "        df['agen_store1'] = us7ascii_to_cp949(df_temp)\n",
    "        \n",
    "    if 'agen_saddr1' in df.columns:\n",
    "        df_temp = df['agen_saddr1'].copy()\n",
    "        df['agen_saddr1'] = us7ascii_to_cp949(df_temp)\n",
    "        \n",
    "    if 'agen_store5' in df.columns:\n",
    "        df_temp = df['agen_store5'].copy()\n",
    "        df['agen_store5'] = us7ascii_to_cp949(df_temp)\n",
    "        \n",
    "    if 'agen_saddr5' in df.columns:\n",
    "        df_temp = df['agen_saddr5'].copy()\n",
    "        df['agen_saddr5'] = us7ascii_to_cp949(df_temp)\n",
    "\n",
    "    if 'sch_name' in df.columns:\n",
    "        df_temp = df['sch_name'].copy()\n",
    "        df['sch_name'] = us7ascii_to_cp949(df_temp)\n",
    "    return df"
   ]
  },
  {
   "cell_type": "code",
   "execution_count": 10,
   "id": "3ce56d36-0317-4569-bd89-9e08eab14f22",
   "metadata": {},
   "outputs": [],
   "source": [
    "df1 = oracle_query(sql1)\n",
    "df2 = oracle_query(sql2)\n",
    "df3 = oracle_query(sql3)\n",
    "df4 = oracle_query(sql4)"
   ]
  },
  {
   "cell_type": "code",
   "execution_count": 11,
   "id": "a621d22d-02ff-4ae3-80d3-56942f4dd42a",
   "metadata": {},
   "outputs": [
    {
     "data": {
      "text/html": [
       "<div>\n",
       "<style scoped>\n",
       "    .dataframe tbody tr th:only-of-type {\n",
       "        vertical-align: middle;\n",
       "    }\n",
       "\n",
       "    .dataframe tbody tr th {\n",
       "        vertical-align: top;\n",
       "    }\n",
       "\n",
       "    .dataframe thead th {\n",
       "        text-align: right;\n",
       "    }\n",
       "</style>\n",
       "<table border=\"1\" class=\"dataframe\">\n",
       "  <thead>\n",
       "    <tr style=\"text-align: right;\">\n",
       "      <th></th>\n",
       "      <th>query_date</th>\n",
       "      <th>master_order</th>\n",
       "      <th>master_year</th>\n",
       "      <th>master_season</th>\n",
       "      <th>master_school</th>\n",
       "      <th>master_agent</th>\n",
       "      <th>master_bokjong</th>\n",
       "      <th>master_ser</th>\n",
       "      <th>master_tkyk</th>\n",
       "      <th>master_person</th>\n",
       "      <th>...</th>\n",
       "      <th>master_prodm_date</th>\n",
       "      <th>master_appv_end_dt</th>\n",
       "      <th>master_appv_start_dt</th>\n",
       "      <th>master_st20_dt</th>\n",
       "      <th>master_st03_date</th>\n",
       "      <th>master_st00_dt</th>\n",
       "      <th>master_st04_date</th>\n",
       "      <th>master_ns_quota</th>\n",
       "      <th>master_grade_cnt</th>\n",
       "      <th>master_suju_seq</th>\n",
       "    </tr>\n",
       "  </thead>\n",
       "  <tbody>\n",
       "    <tr>\n",
       "      <th>0</th>\n",
       "      <td>2022-11-10 17:32:56</td>\n",
       "      <td>22FTD105B 1</td>\n",
       "      <td>22</td>\n",
       "      <td>F</td>\n",
       "      <td>TD105</td>\n",
       "      <td>VT135</td>\n",
       "      <td>B</td>\n",
       "      <td>1</td>\n",
       "      <td>I</td>\n",
       "      <td>VT135</td>\n",
       "      <td>...</td>\n",
       "      <td>2022-07-14</td>\n",
       "      <td>2022-06-09</td>\n",
       "      <td>None</td>\n",
       "      <td>2022-06-10 14:23:04</td>\n",
       "      <td>2022-04-29 13:20:04</td>\n",
       "      <td>None</td>\n",
       "      <td>2022-06-09 13:41:15</td>\n",
       "      <td>23F</td>\n",
       "      <td>N</td>\n",
       "      <td>1</td>\n",
       "    </tr>\n",
       "    <tr>\n",
       "      <th>1</th>\n",
       "      <td>2022-11-10 17:32:56</td>\n",
       "      <td>22FTD105R 1</td>\n",
       "      <td>22</td>\n",
       "      <td>F</td>\n",
       "      <td>TD105</td>\n",
       "      <td>VT135</td>\n",
       "      <td>R</td>\n",
       "      <td>1</td>\n",
       "      <td>I</td>\n",
       "      <td>VT135</td>\n",
       "      <td>...</td>\n",
       "      <td>2022-07-30</td>\n",
       "      <td>2022-06-09</td>\n",
       "      <td>None</td>\n",
       "      <td>2022-06-10 14:23:05</td>\n",
       "      <td>2022-04-29 13:20:04</td>\n",
       "      <td>None</td>\n",
       "      <td>2022-06-09 13:41:15</td>\n",
       "      <td>23F</td>\n",
       "      <td>N</td>\n",
       "      <td>1</td>\n",
       "    </tr>\n",
       "    <tr>\n",
       "      <th>2</th>\n",
       "      <td>2022-11-10 17:32:56</td>\n",
       "      <td>22FTB008B 1</td>\n",
       "      <td>22</td>\n",
       "      <td>F</td>\n",
       "      <td>TB008</td>\n",
       "      <td>VT135</td>\n",
       "      <td>B</td>\n",
       "      <td>1</td>\n",
       "      <td>I</td>\n",
       "      <td>VT135</td>\n",
       "      <td>...</td>\n",
       "      <td>2022-07-27</td>\n",
       "      <td>2022-06-28</td>\n",
       "      <td>None</td>\n",
       "      <td>2022-06-30 13:43:16</td>\n",
       "      <td>2022-04-29 13:20:04</td>\n",
       "      <td>None</td>\n",
       "      <td>2022-06-28 15:38:50</td>\n",
       "      <td>23F</td>\n",
       "      <td>N</td>\n",
       "      <td>1</td>\n",
       "    </tr>\n",
       "    <tr>\n",
       "      <th>3</th>\n",
       "      <td>2022-11-10 17:32:56</td>\n",
       "      <td>22FTB008R 1</td>\n",
       "      <td>22</td>\n",
       "      <td>F</td>\n",
       "      <td>TB008</td>\n",
       "      <td>VT135</td>\n",
       "      <td>R</td>\n",
       "      <td>1</td>\n",
       "      <td>I</td>\n",
       "      <td>VT135</td>\n",
       "      <td>...</td>\n",
       "      <td>2022-07-30</td>\n",
       "      <td>2022-06-29</td>\n",
       "      <td>None</td>\n",
       "      <td>2022-06-30 13:43:18</td>\n",
       "      <td>2022-04-29 13:20:04</td>\n",
       "      <td>None</td>\n",
       "      <td>2022-06-29 11:19:17</td>\n",
       "      <td>23F</td>\n",
       "      <td>N</td>\n",
       "      <td>1</td>\n",
       "    </tr>\n",
       "    <tr>\n",
       "      <th>4</th>\n",
       "      <td>2022-11-10 17:32:56</td>\n",
       "      <td>22FTB008V 1</td>\n",
       "      <td>22</td>\n",
       "      <td>F</td>\n",
       "      <td>TB008</td>\n",
       "      <td>VT135</td>\n",
       "      <td>V</td>\n",
       "      <td>1</td>\n",
       "      <td>I</td>\n",
       "      <td>VT135</td>\n",
       "      <td>...</td>\n",
       "      <td>2022-09-19</td>\n",
       "      <td>2022-06-29</td>\n",
       "      <td>None</td>\n",
       "      <td>2022-06-30 13:43:18</td>\n",
       "      <td>2022-04-29 13:20:05</td>\n",
       "      <td>None</td>\n",
       "      <td>2022-06-29 11:19:17</td>\n",
       "      <td>23F</td>\n",
       "      <td>N</td>\n",
       "      <td>1</td>\n",
       "    </tr>\n",
       "  </tbody>\n",
       "</table>\n",
       "<p>5 rows × 34 columns</p>\n",
       "</div>"
      ],
      "text/plain": [
       "           query_date master_order master_year master_season master_school  \\\n",
       "0 2022-11-10 17:32:56  22FTD105B 1          22             F         TD105   \n",
       "1 2022-11-10 17:32:56  22FTD105R 1          22             F         TD105   \n",
       "2 2022-11-10 17:32:56  22FTB008B 1          22             F         TB008   \n",
       "3 2022-11-10 17:32:56  22FTB008R 1          22             F         TB008   \n",
       "4 2022-11-10 17:32:56  22FTB008V 1          22             F         TB008   \n",
       "\n",
       "  master_agent master_bokjong  master_ser master_tkyk master_person  ...  \\\n",
       "0        VT135              B           1           I         VT135  ...   \n",
       "1        VT135              R           1           I         VT135  ...   \n",
       "2        VT135              B           1           I         VT135  ...   \n",
       "3        VT135              R           1           I         VT135  ...   \n",
       "4        VT135              V           1           I         VT135  ...   \n",
       "\n",
       "  master_prodm_date  master_appv_end_dt  master_appv_start_dt  \\\n",
       "0        2022-07-14          2022-06-09                  None   \n",
       "1        2022-07-30          2022-06-09                  None   \n",
       "2        2022-07-27          2022-06-28                  None   \n",
       "3        2022-07-30          2022-06-29                  None   \n",
       "4        2022-09-19          2022-06-29                  None   \n",
       "\n",
       "       master_st20_dt    master_st03_date master_st00_dt    master_st04_date  \\\n",
       "0 2022-06-10 14:23:04 2022-04-29 13:20:04           None 2022-06-09 13:41:15   \n",
       "1 2022-06-10 14:23:05 2022-04-29 13:20:04           None 2022-06-09 13:41:15   \n",
       "2 2022-06-30 13:43:16 2022-04-29 13:20:04           None 2022-06-28 15:38:50   \n",
       "3 2022-06-30 13:43:18 2022-04-29 13:20:04           None 2022-06-29 11:19:17   \n",
       "4 2022-06-30 13:43:18 2022-04-29 13:20:05           None 2022-06-29 11:19:17   \n",
       "\n",
       "  master_ns_quota master_grade_cnt master_suju_seq  \n",
       "0             23F                N               1  \n",
       "1             23F                N               1  \n",
       "2             23F                N               1  \n",
       "3             23F                N               1  \n",
       "4             23F                N               1  \n",
       "\n",
       "[5 rows x 34 columns]"
      ]
     },
     "execution_count": 11,
     "metadata": {},
     "output_type": "execute_result"
    }
   ],
   "source": [
    "df1.head()"
   ]
  },
  {
   "cell_type": "markdown",
   "id": "d9c8ed2c-a06a-4af0-a28f-96502f6d4fa0",
   "metadata": {},
   "source": [
    "## SQLITE 시작"
   ]
  },
  {
   "cell_type": "code",
   "execution_count": 12,
   "id": "f422542f-b65c-48a9-8795-983635cd2922",
   "metadata": {},
   "outputs": [],
   "source": [
    "connect = sqlite3.connect('./data/daliy_order.db') # conn 객체 생성 = DB 파일명."
   ]
  },
  {
   "cell_type": "code",
   "execution_count": 13,
   "id": "7f2b3732-72ae-4e10-b81c-36c03a8929af",
   "metadata": {},
   "outputs": [],
   "source": [
    "cursor = connect.cursor() # 커서 생성"
   ]
  },
  {
   "cell_type": "code",
   "execution_count": 14,
   "id": "210389f3-0f7e-49ef-8599-44d41b83cc7b",
   "metadata": {},
   "outputs": [
    {
     "data": {
      "text/plain": [
       "16"
      ]
     },
     "execution_count": 14,
     "metadata": {},
     "output_type": "execute_result"
    }
   ],
   "source": [
    "df1.to_sql('I_SUJU_MASTER_DAILY_T', connect, index_label='num', if_exists='append') # 테이블이 존재할 경우 데이터만 넣는다.\n",
    "\n",
    "# df1.to_sql('I_SUJU_MASTER_DAILY_T', connect, index_label='num', if_exists='replace') # 테이블이 존재할 경우 테이블 삭제 후 재생성\n",
    "\n",
    "df2.to_sql('I_SCH_T', connect, index=False, if_exists='replace') # 테이블이 존재할 경우 테이블 삭제 후 재생성\n",
    "df3.to_sql('I_AGEN_T', connect, index=False, if_exists='replace') # 테이블이 존재할 경우 테이블 삭제 후 재생성\n",
    "df4.to_sql('I_TKYK_T', connect, index=False, if_exists='replace') # 테이블이 존재할 경우 테이블 삭제 후 재생성"
   ]
  },
  {
   "cell_type": "code",
   "execution_count": 15,
   "id": "4ceb7b4a-b8ac-474c-a52e-e8ce5e621338",
   "metadata": {},
   "outputs": [],
   "source": [
    "connect.close()"
   ]
  }
 ],
 "metadata": {
  "kernelspec": {
   "display_name": "Python 3 (ipykernel)",
   "language": "python",
   "name": "python3"
  },
  "language_info": {
   "codemirror_mode": {
    "name": "ipython",
    "version": 3
   },
   "file_extension": ".py",
   "mimetype": "text/x-python",
   "name": "python",
   "nbconvert_exporter": "python",
   "pygments_lexer": "ipython3",
   "version": "3.8.13"
  }
 },
 "nbformat": 4,
 "nbformat_minor": 5
}
